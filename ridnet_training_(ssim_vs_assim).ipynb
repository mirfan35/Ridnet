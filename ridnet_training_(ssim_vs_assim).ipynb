{
  "nbformat": 4,
  "nbformat_minor": 0,
  "metadata": {
    "colab": {
      "provenance": [],
      "gpuType": "T4",
      "authorship_tag": "ABX9TyNhofxbn6Ji4cUR0NB+8obR",
      "include_colab_link": true
    },
    "kernelspec": {
      "name": "python3",
      "display_name": "Python 3"
    },
    "language_info": {
      "name": "python"
    },
    "accelerator": "GPU"
  },
  "cells": [
    {
      "cell_type": "markdown",
      "metadata": {
        "id": "view-in-github",
        "colab_type": "text"
      },
      "source": [
        "<a href=\"https://colab.research.google.com/github/mirfan35/Ridnet/blob/main/ridnet_training_(ssim_vs_assim).ipynb\" target=\"_parent\"><img src=\"https://colab.research.google.com/assets/colab-badge.svg\" alt=\"Open In Colab\"/></a>"
      ]
    },
    {
      "cell_type": "code",
      "source": [
        "from google.colab import drive\n",
        "drive.mount('/content/drive')"
      ],
      "metadata": {
        "colab": {
          "base_uri": "https://localhost:8080/"
        },
        "id": "FxD4YMiw-6FT",
        "outputId": "0b861209-634b-46b2-e881-c69cd59556d8"
      },
      "execution_count": 4,
      "outputs": [
        {
          "output_type": "stream",
          "name": "stdout",
          "text": [
            "Mounted at /content/drive\n"
          ]
        }
      ]
    },
    {
      "cell_type": "code",
      "source": [
        "pip install tensorflow-io"
      ],
      "metadata": {
        "colab": {
          "base_uri": "https://localhost:8080/"
        },
        "id": "XMyUdovw8DDa",
        "outputId": "3b293871-6736-4662-e8f8-da4de5757fe4"
      },
      "execution_count": 2,
      "outputs": [
        {
          "output_type": "stream",
          "name": "stdout",
          "text": [
            "Collecting tensorflow-io\n",
            "  Downloading tensorflow_io-0.33.0-cp310-cp310-manylinux_2_12_x86_64.manylinux2010_x86_64.whl (28.6 MB)\n",
            "\u001b[2K     \u001b[90m━━━━━━━━━━━━━━━━━━━━━━━━━━━━━━━━━━━━━━━━\u001b[0m \u001b[32m28.6/28.6 MB\u001b[0m \u001b[31m55.0 MB/s\u001b[0m eta \u001b[36m0:00:00\u001b[0m\n",
            "\u001b[?25hRequirement already satisfied: tensorflow-io-gcs-filesystem==0.33.0 in /usr/local/lib/python3.10/dist-packages (from tensorflow-io) (0.33.0)\n",
            "Installing collected packages: tensorflow-io\n",
            "Successfully installed tensorflow-io-0.33.0\n"
          ]
        }
      ]
    },
    {
      "cell_type": "code",
      "source": [
        "import tensorflow as tf\n",
        "import tensorflow_io as tfio\n",
        "from tensorflow import keras\n",
        "from tensorflow.keras import layers, models\n",
        "import cv2\n",
        "import numpy as np\n",
        "import pickle"
      ],
      "metadata": {
        "id": "KhWJe5TYqIH3"
      },
      "execution_count": 3,
      "outputs": []
    },
    {
      "cell_type": "code",
      "source": [
        "print(tf.__version__)\n",
        "print(tf.config.list_physical_devices(\"GPU\"))\n",
        "gpus = tf.config.experimental.list_physical_devices('GPU')\n",
        "for gpu in gpus:\n",
        "\tprint(gpu)\n",
        "\ttf.config.experimental.set_memory_growth(gpu, True)\n",
        "\n",
        "from tensorflow.compat.v1 import ConfigProto\n",
        "from tensorflow.compat.v1 import InteractiveSession\n",
        "config = ConfigProto()\n",
        "config.gpu_options.allow_growth = True\n",
        "session = InteractiveSession(config=config)\n",
        "\n",
        "tf.keras.backend.clear_session()"
      ],
      "metadata": {
        "colab": {
          "base_uri": "https://localhost:8080/"
        },
        "id": "WCKutQsRqSy-",
        "outputId": "174c0196-b773-4d31-811f-e4f1ad438c0c"
      },
      "execution_count": 5,
      "outputs": [
        {
          "output_type": "stream",
          "name": "stdout",
          "text": [
            "2.12.0\n",
            "[PhysicalDevice(name='/physical_device:GPU:0', device_type='GPU')]\n",
            "PhysicalDevice(name='/physical_device:GPU:0', device_type='GPU')\n"
          ]
        }
      ]
    },
    {
      "cell_type": "code",
      "source": [
        "physical_devices = tf.config.list_physical_devices('GPU')\n",
        "\n",
        "print(\"GPU:\", tf.config.list_physical_devices('GPU'))\n",
        "print(\"Num GPUs:\", len(physical_devices))"
      ],
      "metadata": {
        "colab": {
          "base_uri": "https://localhost:8080/"
        },
        "id": "GS-BZBodqVRe",
        "outputId": "a6d4c511-ecf8-48c5-9208-f58db4eb873d"
      },
      "execution_count": 6,
      "outputs": [
        {
          "output_type": "stream",
          "name": "stdout",
          "text": [
            "GPU: [PhysicalDevice(name='/physical_device:GPU:0', device_type='GPU')]\n",
            "Num GPUs: 1\n"
          ]
        }
      ]
    },
    {
      "cell_type": "code",
      "source": [
        "###############################################################################################\n",
        "# load image\n",
        "###############################################################################################\n",
        "f = open('/content/drive/MyDrive/python project/dataset/noise and referance (64x64).pckl', 'rb')\n",
        "data_in, data_out = pickle.load(f)\n",
        "f.close()"
      ],
      "metadata": {
        "id": "Axcn4DzBqb8V"
      },
      "execution_count": 7,
      "outputs": []
    },
    {
      "cell_type": "code",
      "source": [
        "###############################################################################################\n",
        "# normalize\n",
        "###############################################################################################\n",
        "x_train = np.float32(data_in)/255\n",
        "y_train = np.float32(data_out)/255\n",
        "\n",
        "## random shuffle traning data (optional) ##\n",
        "seed = np.random.randint(123)\n",
        "np.random.seed(seed)\n",
        "np.random.shuffle(x_train)\n",
        "np.random.seed(seed)\n",
        "np.random.shuffle(y_train)"
      ],
      "metadata": {
        "id": "BR3itCx2q3Xa"
      },
      "execution_count": 8,
      "outputs": []
    },
    {
      "cell_type": "code",
      "source": [
        "###############################################################################################\n",
        "# Enhancement Attention Modules (EAM)\n",
        "###############################################################################################\n",
        "def EAM(input):\n",
        "\tconv1 = layers.Conv2D(64, (3,3), dilation_rate=1,padding='same',activation='relu')(input)\n",
        "\tconv1 = layers.Conv2D(64, (3,3), dilation_rate=2,padding='same',activation='relu')(conv1)\n",
        "\n",
        "\tconv2 = layers.Conv2D(64, (3,3), dilation_rate=3,padding='same',activation='relu')(input)\n",
        "\tconv2 = layers.Conv2D(64, (3,3), dilation_rate=4,padding='same',activation='relu')(conv2)\n",
        "\n",
        "\tconcat = layers.concatenate([conv1,conv2])\n",
        "\tconv3 = layers.Conv2D(64, (3,3),padding='same',activation='relu')(concat)\n",
        "\tadd1 = layers.Add()([input,conv3])\n",
        "\n",
        "\tconv4 = layers.Conv2D(64, (3,3),padding='same',activation='relu')(add1)\n",
        "\tconv4 = layers.Conv2D(64, (3,3),padding='same')(conv4)\n",
        "\tadd2 = layers.Add()([conv4,add1])\n",
        "\tadd2 = layers.Activation('relu')(add2)\n",
        "\n",
        "\tconv5 = layers.Conv2D(64, (3,3),padding='same',activation='relu')(add2)\n",
        "\tconv5 = layers.Conv2D(64, (3,3),padding='same',activation='relu')(conv5)\n",
        "\tconv5 = layers.Conv2D(64, (1,1),padding='same')(conv5)\n",
        "\tadd3 = layers.Add()([add2,conv5])\n",
        "\tadd3 = layers.Activation('relu')(add3)\n",
        "\n",
        "\tgap = layers.GlobalAveragePooling2D()(add3)\n",
        "\tgap = layers.Reshape((1,1,64))(gap)\n",
        "\tconv6 = layers.Conv2D(64, (3,3),padding='same',activation='relu')(gap)\n",
        "\tconv6 = layers.Conv2D(64, (3,3),padding='same',activation='sigmoid')(conv6)\n",
        "\n",
        "\tmul = layers.Multiply()([conv6, add3])\n",
        "\tout = layers.Add()([input,mul]) # This is not included in the reference code\n",
        "\treturn out"
      ],
      "metadata": {
        "id": "4dse6aF5rA9b"
      },
      "execution_count": 9,
      "outputs": []
    },
    {
      "cell_type": "code",
      "source": [
        "###############################################################################################\n",
        "# RIDnet autoencoder (https://medium.com/analytics-vidhya/image-denoising-using-deep-learning-dc2b19a3fd54)\n",
        "###############################################################################################\n",
        "#### RIDnet layers ####\n",
        "tf.keras.backend.clear_session()\n",
        "input = keras.Input(shape=(64, 64, 3))\n",
        "conv1 = layers.Conv2D(64 , (3,3),padding='same')(input)\n",
        "eam1 = EAM(conv1)\n",
        "eam2 = EAM(eam1)\n",
        "eam3 = EAM(eam2)\n",
        "eam4 = EAM(eam3)\n",
        "conv2 = layers.Conv2D(3, (3,3),padding='same')(eam4)\n",
        "output = layers.Add()([input,conv2])\n",
        "#### RIDnet layers ####\n",
        "\n",
        "RIDNet = keras.Model(input,output)"
      ],
      "metadata": {
        "id": "IwxDsPaHrCyk"
      },
      "execution_count": 10,
      "outputs": []
    },
    {
      "cell_type": "code",
      "source": [
        "##################################################################################\n",
        "# mssim from cv2 (https://docs.opencv.org/4.x/d5/dc4/tutorial_video_input_psnr_ssim.html)\n",
        "##################################################################################\n",
        "def MSSIM(I1, I2, win=11):\n",
        "    C1 = 6.5025\n",
        "    C2 = 58.5225\n",
        "\n",
        "    # PRELIMINARY COMPUTING\n",
        "    mu1 = tfio.experimental.filter.gaussian(I1, ksize=[win, win], sigma=1.5, mode='REFLECT') #mean\n",
        "    mu2 = tfio.experimental.filter.gaussian(I2, ksize=[win, win], sigma=1.5, mode='REFLECT')\n",
        "    mu1_2 = mu1**2\n",
        "    mu2_2 = mu2**2\n",
        "    mu1_mu2 = mu1*mu2\n",
        "    sigma1_2 = tfio.experimental.filter.gaussian(I1**2, ksize=[win, win], sigma=1.5, mode='REFLECT') - mu1_2 # variance (shortcut formula)\n",
        "    sigma2_2 = tfio.experimental.filter.gaussian(I2**2, ksize=[win, win], sigma=1.5, mode='REFLECT') - mu2_2\n",
        "    sigma12 = tfio.experimental.filter.gaussian(I1*I2, ksize=[win, win], sigma=1.5, mode='REFLECT') - mu1_mu2 # covariance (shortcut formula)\n",
        "\n",
        "    t1 = 2 * mu1_mu2 + C1\n",
        "    t2 = 2 * sigma12 + C2\n",
        "    t3 = t1 * t2                    # t3 = ((2*mu1_mu2 + C1).*(2*sigma12 + C2))\n",
        "    t1 = mu1_2 + mu2_2 + C1\n",
        "    t2 = sigma1_2 + sigma2_2 + C2\n",
        "    t1 = t1 * t2                    # t1 =((mu1_2 + mu2_2 + C1).*(sigma1_2 + sigma2_2 + C2))\n",
        "\n",
        "    ssim_map = t3/t1    # ssim_map =  t3./t1;\n",
        "\n",
        "    mssim = tf.reduce_mean(ssim_map)       # mssim = average of ssim map\n",
        "\n",
        "    return mssim"
      ],
      "metadata": {
        "id": "-wPZHueC8pjf"
      },
      "execution_count": 11,
      "outputs": []
    },
    {
      "cell_type": "code",
      "source": [
        "##################################################################################\n",
        "# absolute mssim\n",
        "##################################################################################\n",
        "def absoluteMSSIM(I1, I2, win=11):\n",
        "    k = 450 # constant k, control contrast sensitivity\n",
        "\n",
        "    # PRELIMINARY COMPUTING\n",
        "    mu1 = tfio.experimental.filter.gaussian(I1, ksize=[win, win], sigma=1.5, mode='REFLECT') #mean\n",
        "    mu2 = tfio.experimental.filter.gaussian(I2, ksize=[win, win], sigma=1.5, mode='REFLECT')\n",
        "    sigma1_2 = tfio.experimental.filter.gaussian(I1**2, ksize=[win, win], sigma=1.5, mode='REFLECT') - mu1**2 # variance (shortcut formula)\n",
        "    sigma2_2 = tfio.experimental.filter.gaussian(I2**2, ksize=[win, win], sigma=1.5, mode='REFLECT') - mu2**2\n",
        "    sigma12 = tfio.experimental.filter.gaussian(I1*I2, ksize=[win, win], sigma=1.5, mode='REFLECT') - mu1*mu2 # covariance (shortcut formula)\n",
        "\n",
        "    lm = 1 - tf.math.abs(mu1 - mu2)/255 # luminance\n",
        "    cn = MinMaxRatio(sigma1_2, sigma2_2, thr=k) # contrast\n",
        "\n",
        "    ssim_map = lm*cn\n",
        "    mssim = tf.reduce_mean(ssim_map)\n",
        "\n",
        "    return mssim\n",
        "\n",
        "##################################################################################\n",
        "# ratio of between small to large (a/b if a<b)\n",
        "##################################################################################\n",
        "def MinMaxRatio(a,b,thr=0):\n",
        "\ttot = a+b\n",
        "\tdif = tf.math.abs(a-b)\n",
        "\treturn (tot-dif+2*thr)/(tot+dif+2*thr)"
      ],
      "metadata": {
        "id": "zd_XAH6wA2wS"
      },
      "execution_count": 12,
      "outputs": []
    },
    {
      "cell_type": "code",
      "source": [
        "###############################################################################################\n",
        "# loss function (ssim and absolute ssim)\n",
        "###############################################################################################\n",
        "def ssim_loss(y_true, y_pred):\n",
        "    return 1 - MSSIM(y_true*255, y_pred*255)\n",
        "\n",
        "def assim_loss(y_true, y_pred):\n",
        "    return 1 - absoluteMSSIM(y_true*255, y_pred*255)\n",
        "\n",
        "# RIDNet.compile(optimizer=tf.keras.optimizers.Adam(1e-03), loss=tf.keras.losses.MeanSquaredError())\n",
        "RIDNet.compile(optimizer=tf.keras.optimizers.Adam(1e-03), loss=ssim_loss, run_eagerly=True)"
      ],
      "metadata": {
        "id": "xLZTUx9A87o3"
      },
      "execution_count": 13,
      "outputs": []
    },
    {
      "cell_type": "code",
      "source": [
        "###############################################################################################\n",
        "# Training\n",
        "###############################################################################################\n",
        "print(RIDNet.summary())\n",
        "\n",
        "model_name = 'RIDNet(ssim).h5'\n",
        "check_point = tf.keras.callbacks.ModelCheckpoint(model_name, monitor='val_loss')\n",
        "early_stopping = tf.keras.callbacks.EarlyStopping(patience=5)\n",
        "RIDNet.fit(x_train, y_train, epochs=30, validation_split=0.1, batch_size=4, callbacks=[check_point, early_stopping])\n",
        "\n",
        "RIDNet = models.load_model(model_name, custom_objects={\"EAM\": EAM, \"assim_loss\": ssim_loss})\n",
        "RIDNet.compile(optimizer=tf.keras.optimizers.Adam(1e-03), loss=tf.keras.losses.MeanSquaredError()) # replace loss function after training\n",
        "RIDNet.save(model_name)\n",
        "\n",
        "print('done')"
      ],
      "metadata": {
        "colab": {
          "base_uri": "https://localhost:8080/"
        },
        "id": "r9_jksW9rKly",
        "outputId": "39ec6be6-f8b6-44a4-9d98-80110f4fcbf0"
      },
      "execution_count": null,
      "outputs": [
        {
          "output_type": "stream",
          "name": "stdout",
          "text": [
            "Model: \"model\"\n",
            "__________________________________________________________________________________________________\n",
            " Layer (type)                   Output Shape         Param #     Connected to                     \n",
            "==================================================================================================\n",
            " input_1 (InputLayer)           [(None, 64, 64, 3)]  0           []                               \n",
            "                                                                                                  \n",
            " conv2d (Conv2D)                (None, 64, 64, 64)   1792        ['input_1[0][0]']                \n",
            "                                                                                                  \n",
            " conv2d_1 (Conv2D)              (None, 64, 64, 64)   36928       ['conv2d[0][0]']                 \n",
            "                                                                                                  \n",
            " conv2d_3 (Conv2D)              (None, 64, 64, 64)   36928       ['conv2d[0][0]']                 \n",
            "                                                                                                  \n",
            " conv2d_2 (Conv2D)              (None, 64, 64, 64)   36928       ['conv2d_1[0][0]']               \n",
            "                                                                                                  \n",
            " conv2d_4 (Conv2D)              (None, 64, 64, 64)   36928       ['conv2d_3[0][0]']               \n",
            "                                                                                                  \n",
            " concatenate (Concatenate)      (None, 64, 64, 128)  0           ['conv2d_2[0][0]',               \n",
            "                                                                  'conv2d_4[0][0]']               \n",
            "                                                                                                  \n",
            " conv2d_5 (Conv2D)              (None, 64, 64, 64)   73792       ['concatenate[0][0]']            \n",
            "                                                                                                  \n",
            " add (Add)                      (None, 64, 64, 64)   0           ['conv2d[0][0]',                 \n",
            "                                                                  'conv2d_5[0][0]']               \n",
            "                                                                                                  \n",
            " conv2d_6 (Conv2D)              (None, 64, 64, 64)   36928       ['add[0][0]']                    \n",
            "                                                                                                  \n",
            " conv2d_7 (Conv2D)              (None, 64, 64, 64)   36928       ['conv2d_6[0][0]']               \n",
            "                                                                                                  \n",
            " add_1 (Add)                    (None, 64, 64, 64)   0           ['conv2d_7[0][0]',               \n",
            "                                                                  'add[0][0]']                    \n",
            "                                                                                                  \n",
            " activation (Activation)        (None, 64, 64, 64)   0           ['add_1[0][0]']                  \n",
            "                                                                                                  \n",
            " conv2d_8 (Conv2D)              (None, 64, 64, 64)   36928       ['activation[0][0]']             \n",
            "                                                                                                  \n",
            " conv2d_9 (Conv2D)              (None, 64, 64, 64)   36928       ['conv2d_8[0][0]']               \n",
            "                                                                                                  \n",
            " conv2d_10 (Conv2D)             (None, 64, 64, 64)   4160        ['conv2d_9[0][0]']               \n",
            "                                                                                                  \n",
            " add_2 (Add)                    (None, 64, 64, 64)   0           ['activation[0][0]',             \n",
            "                                                                  'conv2d_10[0][0]']              \n",
            "                                                                                                  \n",
            " activation_1 (Activation)      (None, 64, 64, 64)   0           ['add_2[0][0]']                  \n",
            "                                                                                                  \n",
            " global_average_pooling2d (Glob  (None, 64)          0           ['activation_1[0][0]']           \n",
            " alAveragePooling2D)                                                                              \n",
            "                                                                                                  \n",
            " reshape (Reshape)              (None, 1, 1, 64)     0           ['global_average_pooling2d[0][0]'\n",
            "                                                                 ]                                \n",
            "                                                                                                  \n",
            " conv2d_11 (Conv2D)             (None, 1, 1, 64)     36928       ['reshape[0][0]']                \n",
            "                                                                                                  \n",
            " conv2d_12 (Conv2D)             (None, 1, 1, 64)     36928       ['conv2d_11[0][0]']              \n",
            "                                                                                                  \n",
            " multiply (Multiply)            (None, 64, 64, 64)   0           ['conv2d_12[0][0]',              \n",
            "                                                                  'activation_1[0][0]']           \n",
            "                                                                                                  \n",
            " add_3 (Add)                    (None, 64, 64, 64)   0           ['conv2d[0][0]',                 \n",
            "                                                                  'multiply[0][0]']               \n",
            "                                                                                                  \n",
            " conv2d_13 (Conv2D)             (None, 64, 64, 64)   36928       ['add_3[0][0]']                  \n",
            "                                                                                                  \n",
            " conv2d_15 (Conv2D)             (None, 64, 64, 64)   36928       ['add_3[0][0]']                  \n",
            "                                                                                                  \n",
            " conv2d_14 (Conv2D)             (None, 64, 64, 64)   36928       ['conv2d_13[0][0]']              \n",
            "                                                                                                  \n",
            " conv2d_16 (Conv2D)             (None, 64, 64, 64)   36928       ['conv2d_15[0][0]']              \n",
            "                                                                                                  \n",
            " concatenate_1 (Concatenate)    (None, 64, 64, 128)  0           ['conv2d_14[0][0]',              \n",
            "                                                                  'conv2d_16[0][0]']              \n",
            "                                                                                                  \n",
            " conv2d_17 (Conv2D)             (None, 64, 64, 64)   73792       ['concatenate_1[0][0]']          \n",
            "                                                                                                  \n",
            " add_4 (Add)                    (None, 64, 64, 64)   0           ['add_3[0][0]',                  \n",
            "                                                                  'conv2d_17[0][0]']              \n",
            "                                                                                                  \n",
            " conv2d_18 (Conv2D)             (None, 64, 64, 64)   36928       ['add_4[0][0]']                  \n",
            "                                                                                                  \n",
            " conv2d_19 (Conv2D)             (None, 64, 64, 64)   36928       ['conv2d_18[0][0]']              \n",
            "                                                                                                  \n",
            " add_5 (Add)                    (None, 64, 64, 64)   0           ['conv2d_19[0][0]',              \n",
            "                                                                  'add_4[0][0]']                  \n",
            "                                                                                                  \n",
            " activation_2 (Activation)      (None, 64, 64, 64)   0           ['add_5[0][0]']                  \n",
            "                                                                                                  \n",
            " conv2d_20 (Conv2D)             (None, 64, 64, 64)   36928       ['activation_2[0][0]']           \n",
            "                                                                                                  \n",
            " conv2d_21 (Conv2D)             (None, 64, 64, 64)   36928       ['conv2d_20[0][0]']              \n",
            "                                                                                                  \n",
            " conv2d_22 (Conv2D)             (None, 64, 64, 64)   4160        ['conv2d_21[0][0]']              \n",
            "                                                                                                  \n",
            " add_6 (Add)                    (None, 64, 64, 64)   0           ['activation_2[0][0]',           \n",
            "                                                                  'conv2d_22[0][0]']              \n",
            "                                                                                                  \n",
            " activation_3 (Activation)      (None, 64, 64, 64)   0           ['add_6[0][0]']                  \n",
            "                                                                                                  \n",
            " global_average_pooling2d_1 (Gl  (None, 64)          0           ['activation_3[0][0]']           \n",
            " obalAveragePooling2D)                                                                            \n",
            "                                                                                                  \n",
            " reshape_1 (Reshape)            (None, 1, 1, 64)     0           ['global_average_pooling2d_1[0][0\n",
            "                                                                 ]']                              \n",
            "                                                                                                  \n",
            " conv2d_23 (Conv2D)             (None, 1, 1, 64)     36928       ['reshape_1[0][0]']              \n",
            "                                                                                                  \n",
            " conv2d_24 (Conv2D)             (None, 1, 1, 64)     36928       ['conv2d_23[0][0]']              \n",
            "                                                                                                  \n",
            " multiply_1 (Multiply)          (None, 64, 64, 64)   0           ['conv2d_24[0][0]',              \n",
            "                                                                  'activation_3[0][0]']           \n",
            "                                                                                                  \n",
            " add_7 (Add)                    (None, 64, 64, 64)   0           ['add_3[0][0]',                  \n",
            "                                                                  'multiply_1[0][0]']             \n",
            "                                                                                                  \n",
            " conv2d_25 (Conv2D)             (None, 64, 64, 64)   36928       ['add_7[0][0]']                  \n",
            "                                                                                                  \n",
            " conv2d_27 (Conv2D)             (None, 64, 64, 64)   36928       ['add_7[0][0]']                  \n",
            "                                                                                                  \n",
            " conv2d_26 (Conv2D)             (None, 64, 64, 64)   36928       ['conv2d_25[0][0]']              \n",
            "                                                                                                  \n",
            " conv2d_28 (Conv2D)             (None, 64, 64, 64)   36928       ['conv2d_27[0][0]']              \n",
            "                                                                                                  \n",
            " concatenate_2 (Concatenate)    (None, 64, 64, 128)  0           ['conv2d_26[0][0]',              \n",
            "                                                                  'conv2d_28[0][0]']              \n",
            "                                                                                                  \n",
            " conv2d_29 (Conv2D)             (None, 64, 64, 64)   73792       ['concatenate_2[0][0]']          \n",
            "                                                                                                  \n",
            " add_8 (Add)                    (None, 64, 64, 64)   0           ['add_7[0][0]',                  \n",
            "                                                                  'conv2d_29[0][0]']              \n",
            "                                                                                                  \n",
            " conv2d_30 (Conv2D)             (None, 64, 64, 64)   36928       ['add_8[0][0]']                  \n",
            "                                                                                                  \n",
            " conv2d_31 (Conv2D)             (None, 64, 64, 64)   36928       ['conv2d_30[0][0]']              \n",
            "                                                                                                  \n",
            " add_9 (Add)                    (None, 64, 64, 64)   0           ['conv2d_31[0][0]',              \n",
            "                                                                  'add_8[0][0]']                  \n",
            "                                                                                                  \n",
            " activation_4 (Activation)      (None, 64, 64, 64)   0           ['add_9[0][0]']                  \n",
            "                                                                                                  \n",
            " conv2d_32 (Conv2D)             (None, 64, 64, 64)   36928       ['activation_4[0][0]']           \n",
            "                                                                                                  \n",
            " conv2d_33 (Conv2D)             (None, 64, 64, 64)   36928       ['conv2d_32[0][0]']              \n",
            "                                                                                                  \n",
            " conv2d_34 (Conv2D)             (None, 64, 64, 64)   4160        ['conv2d_33[0][0]']              \n",
            "                                                                                                  \n",
            " add_10 (Add)                   (None, 64, 64, 64)   0           ['activation_4[0][0]',           \n",
            "                                                                  'conv2d_34[0][0]']              \n",
            "                                                                                                  \n",
            " activation_5 (Activation)      (None, 64, 64, 64)   0           ['add_10[0][0]']                 \n",
            "                                                                                                  \n",
            " global_average_pooling2d_2 (Gl  (None, 64)          0           ['activation_5[0][0]']           \n",
            " obalAveragePooling2D)                                                                            \n",
            "                                                                                                  \n",
            " reshape_2 (Reshape)            (None, 1, 1, 64)     0           ['global_average_pooling2d_2[0][0\n",
            "                                                                 ]']                              \n",
            "                                                                                                  \n",
            " conv2d_35 (Conv2D)             (None, 1, 1, 64)     36928       ['reshape_2[0][0]']              \n",
            "                                                                                                  \n",
            " conv2d_36 (Conv2D)             (None, 1, 1, 64)     36928       ['conv2d_35[0][0]']              \n",
            "                                                                                                  \n",
            " multiply_2 (Multiply)          (None, 64, 64, 64)   0           ['conv2d_36[0][0]',              \n",
            "                                                                  'activation_5[0][0]']           \n",
            "                                                                                                  \n",
            " add_11 (Add)                   (None, 64, 64, 64)   0           ['add_7[0][0]',                  \n",
            "                                                                  'multiply_2[0][0]']             \n",
            "                                                                                                  \n",
            " conv2d_37 (Conv2D)             (None, 64, 64, 64)   36928       ['add_11[0][0]']                 \n",
            "                                                                                                  \n",
            " conv2d_39 (Conv2D)             (None, 64, 64, 64)   36928       ['add_11[0][0]']                 \n",
            "                                                                                                  \n",
            " conv2d_38 (Conv2D)             (None, 64, 64, 64)   36928       ['conv2d_37[0][0]']              \n",
            "                                                                                                  \n",
            " conv2d_40 (Conv2D)             (None, 64, 64, 64)   36928       ['conv2d_39[0][0]']              \n",
            "                                                                                                  \n",
            " concatenate_3 (Concatenate)    (None, 64, 64, 128)  0           ['conv2d_38[0][0]',              \n",
            "                                                                  'conv2d_40[0][0]']              \n",
            "                                                                                                  \n",
            " conv2d_41 (Conv2D)             (None, 64, 64, 64)   73792       ['concatenate_3[0][0]']          \n",
            "                                                                                                  \n",
            " add_12 (Add)                   (None, 64, 64, 64)   0           ['add_11[0][0]',                 \n",
            "                                                                  'conv2d_41[0][0]']              \n",
            "                                                                                                  \n",
            " conv2d_42 (Conv2D)             (None, 64, 64, 64)   36928       ['add_12[0][0]']                 \n",
            "                                                                                                  \n",
            " conv2d_43 (Conv2D)             (None, 64, 64, 64)   36928       ['conv2d_42[0][0]']              \n",
            "                                                                                                  \n",
            " add_13 (Add)                   (None, 64, 64, 64)   0           ['conv2d_43[0][0]',              \n",
            "                                                                  'add_12[0][0]']                 \n",
            "                                                                                                  \n",
            " activation_6 (Activation)      (None, 64, 64, 64)   0           ['add_13[0][0]']                 \n",
            "                                                                                                  \n",
            " conv2d_44 (Conv2D)             (None, 64, 64, 64)   36928       ['activation_6[0][0]']           \n",
            "                                                                                                  \n",
            " conv2d_45 (Conv2D)             (None, 64, 64, 64)   36928       ['conv2d_44[0][0]']              \n",
            "                                                                                                  \n",
            " conv2d_46 (Conv2D)             (None, 64, 64, 64)   4160        ['conv2d_45[0][0]']              \n",
            "                                                                                                  \n",
            " add_14 (Add)                   (None, 64, 64, 64)   0           ['activation_6[0][0]',           \n",
            "                                                                  'conv2d_46[0][0]']              \n",
            "                                                                                                  \n",
            " activation_7 (Activation)      (None, 64, 64, 64)   0           ['add_14[0][0]']                 \n",
            "                                                                                                  \n",
            " global_average_pooling2d_3 (Gl  (None, 64)          0           ['activation_7[0][0]']           \n",
            " obalAveragePooling2D)                                                                            \n",
            "                                                                                                  \n",
            " reshape_3 (Reshape)            (None, 1, 1, 64)     0           ['global_average_pooling2d_3[0][0\n",
            "                                                                 ]']                              \n",
            "                                                                                                  \n",
            " conv2d_47 (Conv2D)             (None, 1, 1, 64)     36928       ['reshape_3[0][0]']              \n",
            "                                                                                                  \n",
            " conv2d_48 (Conv2D)             (None, 1, 1, 64)     36928       ['conv2d_47[0][0]']              \n",
            "                                                                                                  \n",
            " multiply_3 (Multiply)          (None, 64, 64, 64)   0           ['conv2d_48[0][0]',              \n",
            "                                                                  'activation_7[0][0]']           \n",
            "                                                                                                  \n",
            " add_15 (Add)                   (None, 64, 64, 64)   0           ['add_11[0][0]',                 \n",
            "                                                                  'multiply_3[0][0]']             \n",
            "                                                                                                  \n",
            " conv2d_49 (Conv2D)             (None, 64, 64, 3)    1731        ['add_15[0][0]']                 \n",
            "                                                                                                  \n",
            " add_16 (Add)                   (None, 64, 64, 3)    0           ['input_1[0][0]',                \n",
            "                                                                  'conv2d_49[0][0]']              \n",
            "                                                                                                  \n",
            "==================================================================================================\n",
            "Total params: 1,792,451\n",
            "Trainable params: 1,792,451\n",
            "Non-trainable params: 0\n",
            "__________________________________________________________________________________________________\n",
            "None\n",
            "Epoch 1/30\n"
          ]
        },
        {
          "output_type": "stream",
          "name": "stderr",
          "text": [
            "WARNING:tensorflow:5 out of the last 5 calls to <function _BaseOptimizer._update_step_xla at 0x7da57c373be0> triggered tf.function retracing. Tracing is expensive and the excessive number of tracings could be due to (1) creating @tf.function repeatedly in a loop, (2) passing tensors with different shapes, (3) passing Python objects instead of tensors. For (1), please define your @tf.function outside of the loop. For (2), @tf.function has reduce_retracing=True option that can avoid unnecessary retracing. For (3), please refer to https://www.tensorflow.org/guide/function#controlling_retracing and https://www.tensorflow.org/api_docs/python/tf/function for  more details.\n",
            "WARNING:tensorflow:6 out of the last 6 calls to <function _BaseOptimizer._update_step_xla at 0x7da57c373be0> triggered tf.function retracing. Tracing is expensive and the excessive number of tracings could be due to (1) creating @tf.function repeatedly in a loop, (2) passing tensors with different shapes, (3) passing Python objects instead of tensors. For (1), please define your @tf.function outside of the loop. For (2), @tf.function has reduce_retracing=True option that can avoid unnecessary retracing. For (3), please refer to https://www.tensorflow.org/guide/function#controlling_retracing and https://www.tensorflow.org/api_docs/python/tf/function for  more details.\n"
          ]
        },
        {
          "output_type": "stream",
          "name": "stdout",
          "text": [
            "470/788 [================>.............] - ETA: 1:34 - loss: 0.5228"
          ]
        }
      ]
    }
  ]
}